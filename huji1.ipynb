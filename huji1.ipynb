{
 "cells": [
  {
   "cell_type": "code",
   "execution_count": 1,
   "id": "e047529a",
   "metadata": {},
   "outputs": [],
   "source": [
    "import requests"
   ]
  },
  {
   "cell_type": "code",
   "execution_count": 2,
   "id": "1eacfb06",
   "metadata": {},
   "outputs": [],
   "source": [
    "from bs4 import BeautifulSoup"
   ]
  },
  {
   "cell_type": "code",
   "execution_count": 3,
   "id": "d01d5a6f",
   "metadata": {},
   "outputs": [],
   "source": [
    "url = 'https://suumo.jp/chintai/bc_100283895661/'\n",
    "html = requests.get(url)"
   ]
  },
  {
   "cell_type": "code",
   "execution_count": 4,
   "id": "4f614779",
   "metadata": {},
   "outputs": [],
   "source": [
    "contents = BeautifulSoup(html.content, \"html.parser\")"
   ]
  },
  {
   "cell_type": "code",
   "execution_count": 5,
   "id": "d4f8d148",
   "metadata": {},
   "outputs": [],
   "source": [
    "title = contents.select('.property_data-title')\n",
    "body = contents.select('.property_data-body')"
   ]
  },
  {
   "cell_type": "code",
   "execution_count": 6,
   "id": "6476bb8f",
   "metadata": {},
   "outputs": [],
   "source": [
    "del title[0:4]"
   ]
  },
  {
   "cell_type": "code",
   "execution_count": 7,
   "id": "4220ad26",
   "metadata": {},
   "outputs": [],
   "source": [
    "del body[0:4]"
   ]
  },
  {
   "cell_type": "code",
   "execution_count": 8,
   "id": "0e0d9ba3",
   "metadata": {},
   "outputs": [],
   "source": [
    "titlec = contents.select('.property_view_detail-header-title')"
   ]
  },
  {
   "cell_type": "code",
   "execution_count": 9,
   "id": "59931cf9",
   "metadata": {},
   "outputs": [],
   "source": [
    "bodyc = contents.select('.property_view_main-emphasis')"
   ]
  },
  {
   "cell_type": "code",
   "execution_count": 10,
   "id": "0a4a1b86",
   "metadata": {},
   "outputs": [],
   "source": [
    "title.insert(0, titlec[0])"
   ]
  },
  {
   "cell_type": "code",
   "execution_count": 11,
   "id": "479a1fe0",
   "metadata": {},
   "outputs": [],
   "source": [
    "body.insert(0, bodyc[0])"
   ]
  },
  {
   "cell_type": "code",
   "execution_count": 12,
   "id": "b928a95c",
   "metadata": {},
   "outputs": [],
   "source": [
    "j = 0\n",
    "for i in title:\n",
    "    title[j] = title[j].text\n",
    "    title[j] = title[j].strip()\n",
    "    j = j+1"
   ]
  },
  {
   "cell_type": "code",
   "execution_count": 13,
   "id": "0a9139e7",
   "metadata": {},
   "outputs": [],
   "source": [
    "h = 0\n",
    "for i in body:\n",
    "    body[h] = body[h].text\n",
    "    body[h] = body[h].strip()\n",
    "    h = h+1"
   ]
  },
  {
   "cell_type": "code",
   "execution_count": 14,
   "id": "772fa10b",
   "metadata": {},
   "outputs": [],
   "source": [
    "data1 = {title[0]:body[0]}\n",
    "k = 1\n",
    "for i in range(5):\n",
    "    data1[title[k]] = body[k]\n",
    "    k = k + 1\n",
    "    "
   ]
  },
  {
   "cell_type": "code",
   "execution_count": 15,
   "id": "1a7da29b",
   "metadata": {},
   "outputs": [],
   "source": [
    "data1['賃料'] = data1.pop('賃料・初期費用')"
   ]
  },
  {
   "cell_type": "code",
   "execution_count": 16,
   "id": "f4656e44",
   "metadata": {},
   "outputs": [
    {
     "data": {
      "text/plain": [
       "'7.5万円'"
      ]
     },
     "execution_count": 16,
     "metadata": {},
     "output_type": "execute_result"
    }
   ],
   "source": [
    "data1['賃料']"
   ]
  },
  {
   "cell_type": "code",
   "execution_count": null,
   "id": "bdddf01d",
   "metadata": {},
   "outputs": [],
   "source": []
  }
 ],
 "metadata": {
  "kernelspec": {
   "display_name": "Python 3 (ipykernel)",
   "language": "python",
   "name": "python3"
  },
  "language_info": {
   "codemirror_mode": {
    "name": "ipython",
    "version": 3
   },
   "file_extension": ".py",
   "mimetype": "text/x-python",
   "name": "python",
   "nbconvert_exporter": "python",
   "pygments_lexer": "ipython3",
   "version": "3.9.12"
  }
 },
 "nbformat": 4,
 "nbformat_minor": 5
}
